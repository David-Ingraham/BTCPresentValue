{
 "cells": [
  {
   "cell_type": "code",
   "execution_count": 15,
   "id": "51999cc4-1737-4f09-b77a-222331229dfe",
   "metadata": {},
   "outputs": [
    {
     "name": "stdout",
     "output_type": "stream",
     "text": [
      "2847900000.0\n"
     ]
    }
   ],
   "source": [
    "import pandas as pd\n",
    "import requests\n",
    "import json\n",
    "import os\n",
    "from dotenv import load_dotenv\n",
    "import alpaca_trade_api as tradeapi\n",
    "\n",
    "ElSalv_r_value = 6 * (10**9)\n",
    "Tonga_r_value = 2 * (10**8)\n",
    "Somalia_r_value = 1.6 * (10**9)\n",
    "Lebanon_r_value = 8.3 * (10**8)\n",
    "WU_fee = 0.33\n",
    "\n",
    "def remittance_gain(r_value, WU_fee):\n",
    "    \n",
    "    remittance_gain = (r_value * (1 + WU_fee)) - r_value\n",
    "                        \n",
    "    return remittance_gain\n",
    "\n",
    "FCF = remittance_gain(Lebanon_r_value, WU_fee) + remittance_gain(Somalia_r_value, WU_fee) + remittance_gain(Tonga_r_value, WU_fee) + remittance_gain(ElSalv_r_value, WU_fee)\n",
    "print(FCF)"
   ]
  },
  {
   "cell_type": "code",
   "execution_count": 16,
   "id": "2572a4db-edc1-4b88-8097-3df3d665f501",
   "metadata": {},
   "outputs": [
    {
     "name": "stdout",
     "output_type": "stream",
     "text": [
      "1.8869999999999998\n"
     ]
    }
   ],
   "source": [
    "x = .37 * 5.1\n",
    "print(x) ###r_value taken as percentage of gdp for tonga\n"
   ]
  },
  {
   "cell_type": "code",
   "execution_count": 17,
   "id": "2b56d792-2e81-459a-a5c8-30081cabde67",
   "metadata": {},
   "outputs": [],
   "source": []
  },
  {
   "cell_type": "code",
   "execution_count": 31,
   "id": "b56018ea-14b5-4376-97ec-5c7c2a285054",
   "metadata": {},
   "outputs": [],
   "source": [
    "time_window_yrs = 30\n",
    "spy_yearly_return = 0.07\n"
   ]
  },
  {
   "cell_type": "code",
   "execution_count": null,
   "id": "406d3550-e8d8-45a1-a40c-6a3d9352d392",
   "metadata": {},
   "outputs": [],
   "source": []
  },
  {
   "cell_type": "code",
   "execution_count": 27,
   "id": "b9161425-14a6-4e03-b3a7-72b8754febb7",
   "metadata": {},
   "outputs": [],
   "source": [
    "\n",
    "\n",
    "\n",
    "alpaca = tradeapi.REST('AKDHJ7F4KUJLG9Q5OFZ0', 'It55KAr0L6eMk4E1mtmY3KrlRPCZjlBBwcXO57uy', api_version='v2')\n",
    "tickers = [\"KO\"]\n",
    "\n",
    " \n",
    "timeframe = \"1D\"\n",
    "\n",
    "\n",
    "start_date = pd.Timestamp(\"1990-08-07\", tz=\"America/New_York\").isoformat()\n",
    "end_date = pd.Timestamp(\"2020-08-07\", tz=\"America/New_York\").isoformat()"
   ]
  },
  {
   "cell_type": "code",
   "execution_count": 28,
   "id": "abce0483-ef7b-41c6-a838-3569766cbd2f",
   "metadata": {},
   "outputs": [
    {
     "data": {
      "text/html": [
       "<div>\n",
       "<style scoped>\n",
       "    .dataframe tbody tr th:only-of-type {\n",
       "        vertical-align: middle;\n",
       "    }\n",
       "\n",
       "    .dataframe tbody tr th {\n",
       "        vertical-align: top;\n",
       "    }\n",
       "\n",
       "    .dataframe thead tr th {\n",
       "        text-align: left;\n",
       "    }\n",
       "\n",
       "    .dataframe thead tr:last-of-type th {\n",
       "        text-align: right;\n",
       "    }\n",
       "</style>\n",
       "<table border=\"1\" class=\"dataframe\">\n",
       "  <thead>\n",
       "    <tr>\n",
       "      <th></th>\n",
       "      <th colspan=\"5\" halign=\"left\">KO</th>\n",
       "    </tr>\n",
       "    <tr>\n",
       "      <th></th>\n",
       "      <th>open</th>\n",
       "      <th>high</th>\n",
       "      <th>low</th>\n",
       "      <th>close</th>\n",
       "      <th>volume</th>\n",
       "    </tr>\n",
       "    <tr>\n",
       "      <th>time</th>\n",
       "      <th></th>\n",
       "      <th></th>\n",
       "      <th></th>\n",
       "      <th></th>\n",
       "      <th></th>\n",
       "    </tr>\n",
       "  </thead>\n",
       "  <tbody>\n",
       "    <tr>\n",
       "      <th>2016-08-18 00:00:00-04:00</th>\n",
       "      <td>44.05</td>\n",
       "      <td>44.260</td>\n",
       "      <td>44.0000</td>\n",
       "      <td>44.09</td>\n",
       "      <td>7555338</td>\n",
       "    </tr>\n",
       "    <tr>\n",
       "      <th>2016-08-19 00:00:00-04:00</th>\n",
       "      <td>44.05</td>\n",
       "      <td>44.060</td>\n",
       "      <td>43.7400</td>\n",
       "      <td>43.91</td>\n",
       "      <td>7934654</td>\n",
       "    </tr>\n",
       "    <tr>\n",
       "      <th>2016-08-22 00:00:00-04:00</th>\n",
       "      <td>43.94</td>\n",
       "      <td>43.945</td>\n",
       "      <td>43.7250</td>\n",
       "      <td>43.75</td>\n",
       "      <td>6844635</td>\n",
       "    </tr>\n",
       "    <tr>\n",
       "      <th>2016-08-23 00:00:00-04:00</th>\n",
       "      <td>43.85</td>\n",
       "      <td>43.980</td>\n",
       "      <td>43.7400</td>\n",
       "      <td>43.84</td>\n",
       "      <td>6281706</td>\n",
       "    </tr>\n",
       "    <tr>\n",
       "      <th>2016-08-24 00:00:00-04:00</th>\n",
       "      <td>43.82</td>\n",
       "      <td>43.940</td>\n",
       "      <td>43.6641</td>\n",
       "      <td>43.85</td>\n",
       "      <td>10046905</td>\n",
       "    </tr>\n",
       "  </tbody>\n",
       "</table>\n",
       "</div>"
      ],
      "text/plain": [
       "                              KO                                  \n",
       "                            open    high      low  close    volume\n",
       "time                                                              \n",
       "2016-08-18 00:00:00-04:00  44.05  44.260  44.0000  44.09   7555338\n",
       "2016-08-19 00:00:00-04:00  44.05  44.060  43.7400  43.91   7934654\n",
       "2016-08-22 00:00:00-04:00  43.94  43.945  43.7250  43.75   6844635\n",
       "2016-08-23 00:00:00-04:00  43.85  43.980  43.7400  43.84   6281706\n",
       "2016-08-24 00:00:00-04:00  43.82  43.940  43.6641  43.85  10046905"
      ]
     },
     "execution_count": 28,
     "metadata": {},
     "output_type": "execute_result"
    }
   ],
   "source": [
    "ko_df = alpaca.get_barset(tickers, timeframe, start=start_date, end=end_date, limit=1000).df\n",
    "ko_df.head()"
   ]
  },
  {
   "cell_type": "code",
   "execution_count": 33,
   "id": "1bd743f1-5075-427e-b756-642dec903c78",
   "metadata": {},
   "outputs": [
    {
     "name": "stdout",
     "output_type": "stream",
     "text": [
      "0.041530609941287475\n"
     ]
    }
   ],
   "source": [
    "ko_close_prices = ko_df[\"KO\"][\"close\"]\n",
    "ko_daily_return = ko_close_prices.pct_change().dropna() \n",
    "ko_yearly_return = ko_daily_return.mean() * 252\n",
    "print(ko_yearly_return)"
   ]
  },
  {
   "cell_type": "code",
   "execution_count": 41,
   "id": "49986cb7-8db9-4f38-9067-c27a3b77f763",
   "metadata": {},
   "outputs": [
    {
     "name": "stdout",
     "output_type": "stream",
     "text": [
      "40684285714.28571\n",
      "68573517317.13366\n"
     ]
    }
   ],
   "source": [
    "#market cap for one same corner of the greater supply. The will be a general proxy for Bitcoin's financial efficieny extrapolated into the gloabl economy \n",
    "\n",
    "def capitalization(FCF, annual_discount_rate):\n",
    "    present_value = FCF / annual_discount_rate\n",
    "    return present_value\n",
    "\n",
    "btc_r_Mcap_SPY = capitalization(FCF, spy_yearly_return) \n",
    "print(btc_r_Mcap_SPY)\n",
    "btc_r_Mcap_KO = capitalization(FCF, ko_yearly_return) \n",
    "print(btc_r_Mcap_KO)"
   ]
  },
  {
   "cell_type": "code",
   "execution_count": 43,
   "id": "1c734c8f-544b-4117-bac8-cb0f64e7ad30",
   "metadata": {},
   "outputs": [
    {
     "name": "stdout",
     "output_type": "stream",
     "text": [
      "0.00863\n",
      "7945946386689.879\n"
     ]
    }
   ],
   "source": [
    "#grossing up btc future cash flows to total supply\n",
    "\n",
    "total_r = ElSalv_r_value + Tonga_r_value + Somalia_r_value + Lebanon_r_value\n",
    "btc_marketcap = 1* (10**12)\n",
    "r_pct_of_total_Mcap = total_r/btc_marketcap\n",
    "print(r_pct_of_total_Mcap)\n",
    "btc_Mcap_presV = btc_r_Mcap_KO / r_pct_of_total_Mcap\n",
    "print(btc_Mcap_presV)"
   ]
  },
  {
   "cell_type": "code",
   "execution_count": 44,
   "id": "1ab97fd1-ca10-4121-899f-a6d6a644a34c",
   "metadata": {},
   "outputs": [
    {
     "data": {
      "text/plain": [
       "378378.3993661847"
      ]
     },
     "execution_count": 44,
     "metadata": {},
     "output_type": "execute_result"
    }
   ],
   "source": [
    "btc_Mcap_presV / (21 * (10**6)) #pres value of one btc once all are mined"
   ]
  },
  {
   "cell_type": "code",
   "execution_count": null,
   "id": "43b810b9-ee93-4e4f-9bdf-039cf47557ee",
   "metadata": {},
   "outputs": [],
   "source": []
  }
 ],
 "metadata": {
  "kernelspec": {
   "display_name": "dev",
   "language": "python",
   "name": "dev"
  },
  "language_info": {
   "codemirror_mode": {
    "name": "ipython",
    "version": 3
   },
   "file_extension": ".py",
   "mimetype": "text/x-python",
   "name": "python",
   "nbconvert_exporter": "python",
   "pygments_lexer": "ipython3",
   "version": "3.7.10"
  }
 },
 "nbformat": 4,
 "nbformat_minor": 5
}
